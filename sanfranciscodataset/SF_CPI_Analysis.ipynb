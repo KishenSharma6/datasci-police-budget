{
 "cells": [
  {
   "cell_type": "markdown",
   "metadata": {},
   "source": [
    "In the following notebook, I will be analyzing CPI statistics in San Francisco, Oakland, and Hayward. Raw data can be found [here](https://beta.bls.gov/dataViewer/view/timeseries/CUURS49BSA0;jsessionid=453C5D62EA9972ADBC9CCDA260A3AA7E)"
   ]
  },
  {
   "cell_type": "code",
   "execution_count": 32,
   "metadata": {},
   "outputs": [],
   "source": [
    "import numpy as np\n",
    "import pandas as pd\n",
    "import seaborn as sns\n",
    "import matplotlib.pyplot as plt"
   ]
  },
  {
   "cell_type": "code",
   "execution_count": 33,
   "metadata": {},
   "outputs": [],
   "source": [
    "#Set notebook preferences\n",
    "plt.style.use('ggplot')"
   ]
  },
  {
   "cell_type": "code",
   "execution_count": 34,
   "metadata": {},
   "outputs": [
    {
     "name": "stdout",
     "output_type": "stream",
     "text": [
      "/home/kishen/Documents/SFBrigade/datasci-police-budget/data/raw_data\n"
     ]
    }
   ],
   "source": [
    "#Read in data from local machine\n",
    "%cd /home/kishen/Documents/SFBrigade/datasci-police-budget/data/raw_data\n",
    "\n",
    "raw_df= pd.read_csv('CPI_UrbanConsumers_SF_Oakland_Hayward.csv')"
   ]
  },
  {
   "cell_type": "code",
   "execution_count": 35,
   "metadata": {},
   "outputs": [
    {
     "data": {
      "text/plain": [
       "(114, 5)"
      ]
     },
     "metadata": {},
     "output_type": "display_data"
    },
    {
     "data": {
      "text/html": [
       "<div>\n",
       "<style scoped>\n",
       "    .dataframe tbody tr th:only-of-type {\n",
       "        vertical-align: middle;\n",
       "    }\n",
       "\n",
       "    .dataframe tbody tr th {\n",
       "        vertical-align: top;\n",
       "    }\n",
       "\n",
       "    .dataframe thead th {\n",
       "        text-align: right;\n",
       "    }\n",
       "</style>\n",
       "<table border=\"1\" class=\"dataframe\">\n",
       "  <thead>\n",
       "    <tr style=\"text-align: right;\">\n",
       "      <th></th>\n",
       "      <th>Series ID</th>\n",
       "      <th>Year</th>\n",
       "      <th>Period</th>\n",
       "      <th>Label</th>\n",
       "      <th>Value</th>\n",
       "    </tr>\n",
       "  </thead>\n",
       "  <tbody>\n",
       "    <tr>\n",
       "      <th>0</th>\n",
       "      <td>CUURS49BSA0</td>\n",
       "      <td>2000</td>\n",
       "      <td>M02</td>\n",
       "      <td>2000 Feb</td>\n",
       "      <td>176.5</td>\n",
       "    </tr>\n",
       "    <tr>\n",
       "      <th>1</th>\n",
       "      <td>CUURS49BSA0</td>\n",
       "      <td>2000</td>\n",
       "      <td>M04</td>\n",
       "      <td>2000 Apr</td>\n",
       "      <td>178.7</td>\n",
       "    </tr>\n",
       "    <tr>\n",
       "      <th>2</th>\n",
       "      <td>CUURS49BSA0</td>\n",
       "      <td>2000</td>\n",
       "      <td>M06</td>\n",
       "      <td>2000 Jun</td>\n",
       "      <td>179.1</td>\n",
       "    </tr>\n",
       "    <tr>\n",
       "      <th>3</th>\n",
       "      <td>CUURS49BSA0</td>\n",
       "      <td>2000</td>\n",
       "      <td>M08</td>\n",
       "      <td>2000 Aug</td>\n",
       "      <td>181.7</td>\n",
       "    </tr>\n",
       "    <tr>\n",
       "      <th>4</th>\n",
       "      <td>CUURS49BSA0</td>\n",
       "      <td>2000</td>\n",
       "      <td>M10</td>\n",
       "      <td>2000 Oct</td>\n",
       "      <td>183.4</td>\n",
       "    </tr>\n",
       "  </tbody>\n",
       "</table>\n",
       "</div>"
      ],
      "text/plain": [
       "     Series ID  Year Period     Label  Value\n",
       "0  CUURS49BSA0  2000    M02  2000 Feb  176.5\n",
       "1  CUURS49BSA0  2000    M04  2000 Apr  178.7\n",
       "2  CUURS49BSA0  2000    M06  2000 Jun  179.1\n",
       "3  CUURS49BSA0  2000    M08  2000 Aug  181.7\n",
       "4  CUURS49BSA0  2000    M10  2000 Oct  183.4"
      ]
     },
     "execution_count": 35,
     "metadata": {},
     "output_type": "execute_result"
    }
   ],
   "source": [
    "display(raw_df.shape)\n",
    "raw_df.head()"
   ]
  },
  {
   "cell_type": "markdown",
   "metadata": {},
   "source": [
    "**Data Cleaning**"
   ]
  },
  {
   "cell_type": "code",
   "execution_count": 37,
   "metadata": {},
   "outputs": [
    {
     "data": {
      "text/html": [
       "<div>\n",
       "<style scoped>\n",
       "    .dataframe tbody tr th:only-of-type {\n",
       "        vertical-align: middle;\n",
       "    }\n",
       "\n",
       "    .dataframe tbody tr th {\n",
       "        vertical-align: top;\n",
       "    }\n",
       "\n",
       "    .dataframe thead th {\n",
       "        text-align: right;\n",
       "    }\n",
       "</style>\n",
       "<table border=\"1\" class=\"dataframe\">\n",
       "  <thead>\n",
       "    <tr style=\"text-align: right;\">\n",
       "      <th></th>\n",
       "      <th>Value</th>\n",
       "      <th>year</th>\n",
       "      <th>month</th>\n",
       "    </tr>\n",
       "  </thead>\n",
       "  <tbody>\n",
       "    <tr>\n",
       "      <th>0</th>\n",
       "      <td>176.500</td>\n",
       "      <td>2000</td>\n",
       "      <td>Feb</td>\n",
       "    </tr>\n",
       "    <tr>\n",
       "      <th>1</th>\n",
       "      <td>178.700</td>\n",
       "      <td>2000</td>\n",
       "      <td>Apr</td>\n",
       "    </tr>\n",
       "    <tr>\n",
       "      <th>2</th>\n",
       "      <td>179.100</td>\n",
       "      <td>2000</td>\n",
       "      <td>Jun</td>\n",
       "    </tr>\n",
       "    <tr>\n",
       "      <th>3</th>\n",
       "      <td>181.700</td>\n",
       "      <td>2000</td>\n",
       "      <td>Aug</td>\n",
       "    </tr>\n",
       "    <tr>\n",
       "      <th>4</th>\n",
       "      <td>183.400</td>\n",
       "      <td>2000</td>\n",
       "      <td>Oct</td>\n",
       "    </tr>\n",
       "    <tr>\n",
       "      <th>...</th>\n",
       "      <td>...</td>\n",
       "      <td>...</td>\n",
       "      <td>...</td>\n",
       "    </tr>\n",
       "    <tr>\n",
       "      <th>109</th>\n",
       "      <td>283.422</td>\n",
       "      <td>2018</td>\n",
       "      <td>Apr</td>\n",
       "    </tr>\n",
       "    <tr>\n",
       "      <th>110</th>\n",
       "      <td>286.062</td>\n",
       "      <td>2018</td>\n",
       "      <td>Jun</td>\n",
       "    </tr>\n",
       "    <tr>\n",
       "      <th>111</th>\n",
       "      <td>287.664</td>\n",
       "      <td>2018</td>\n",
       "      <td>Aug</td>\n",
       "    </tr>\n",
       "    <tr>\n",
       "      <th>112</th>\n",
       "      <td>289.673</td>\n",
       "      <td>2018</td>\n",
       "      <td>Oct</td>\n",
       "    </tr>\n",
       "    <tr>\n",
       "      <th>113</th>\n",
       "      <td>289.896</td>\n",
       "      <td>2018</td>\n",
       "      <td>Dec</td>\n",
       "    </tr>\n",
       "  </tbody>\n",
       "</table>\n",
       "<p>114 rows × 3 columns</p>\n",
       "</div>"
      ],
      "text/plain": [
       "       Value  year month\n",
       "0    176.500  2000   Feb\n",
       "1    178.700  2000   Apr\n",
       "2    179.100  2000   Jun\n",
       "3    181.700  2000   Aug\n",
       "4    183.400  2000   Oct\n",
       "..       ...   ...   ...\n",
       "109  283.422  2018   Apr\n",
       "110  286.062  2018   Jun\n",
       "111  287.664  2018   Aug\n",
       "112  289.673  2018   Oct\n",
       "113  289.896  2018   Dec\n",
       "\n",
       "[114 rows x 3 columns]"
      ]
     },
     "execution_count": 37,
     "metadata": {},
     "output_type": "execute_result"
    }
   ],
   "source": [
    "#Drop redundant cols\n",
    "clean_df= raw_df.drop(['Series ID','Period','Year'], axis= 1)\n",
    "\n",
    "#Clean up dataframe\n",
    "clean_df[['year','month']]= clean_df['Label'].str.split(' ', 1, expand=True)\n",
    "clean_df.drop('Label', axis=1, inplace=True)\n",
    "\n",
    "clean_df"
   ]
  },
  {
   "cell_type": "code",
   "execution_count": 63,
   "metadata": {},
   "outputs": [
    {
     "data": {
      "text/plain": [
       "<matplotlib.legend.Legend at 0x7fc8ba95abe0>"
      ]
     },
     "execution_count": 63,
     "metadata": {},
     "output_type": "execute_result"
    },
    {
     "data": {
      "image/png": "[encoded data removed]",
      "text/plain": [
       "<Figure size 720x504 with 1 Axes>"
      ]
     },
     "metadata": {},
     "output_type": "display_data"
    }
   ],
   "source": [
    "#CPI per 2 months\n",
    "j= clean_df.plot(x='year', y='Value', figsize=(10,7),color= 'blue', alpha= .4,\n",
    "           title= 'Consumer Price Index (2000-2018)\\nSan Francisco, Oakland, & Hayward',\n",
    "                label='CPI')\n",
    "\n",
    "j.set_xlabel('')\n",
    "j.set_ylabel('Consumer Price Index')\n",
    "j.legend(shadow=True, loc= 'best')\n"
   ]
  }
 ],
 "metadata": {
  "kernelspec": {
   "display_name": "Python 3",
   "language": "python",
   "name": "python3"
  },
  "language_info": {
   "codemirror_mode": {
    "name": "ipython",
    "version": 3
   },
   "file_extension": ".py",
   "mimetype": "text/x-python",
   "name": "python",
   "nbconvert_exporter": "python",
   "pygments_lexer": "ipython3",
   "version": "3.8.5"
  }
 },
 "nbformat": 4,
 "nbformat_minor": 4
}
